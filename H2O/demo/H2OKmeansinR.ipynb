{
 "cells": [
  {
   "cell_type": "markdown",
   "metadata": {},
   "source": [
    "# Machine Learing using H2O in R\n",
    "This demo will focus on performing a Kmeans clustering analysis for a data set using the R interface to the H2O machine learning platform. H2O is a java based machine learning platform that provides an R interface. If you don't yet have H2O installed in your R you can install by doing the following:"
   ]
  },
  {
   "cell_type": "code",
   "execution_count": null,
   "metadata": {
    "collapsed": true
   },
   "outputs": [],
   "source": [
    "# The following two commands remove any previously installed H2O packages for R.\n",
    "if (\"package:h2o\" %in% search()) { detach(\"package:h2o\", unload=TRUE) }\n",
    "if (\"h2o\" %in% rownames(installed.packages())) { remove.packages(\"h2o\") }\n",
    "\n",
    "# Next, we download packages that H2O depends on.\n",
    "if (! (\"methods\" %in% rownames(installed.packages()))) { install.packages(\"methods\") }\n",
    "if (! (\"statmod\" %in% rownames(installed.packages()))) { install.packages(\"statmod\") }\n",
    "if (! (\"stats\" %in% rownames(installed.packages()))) { install.packages(\"stats\") }\n",
    "if (! (\"graphics\" %in% rownames(installed.packages()))) { install.packages(\"graphics\") }\n",
    "if (! (\"RCurl\" %in% rownames(installed.packages()))) { install.packages(\"RCurl\") }\n",
    "if (! (\"jsonlite\" %in% rownames(installed.packages()))) { install.packages(\"jsonlite\") }\n",
    "if (! (\"tools\" %in% rownames(installed.packages()))) { install.packages(\"tools\") }\n",
    "if (! (\"utils\" %in% rownames(installed.packages()))) { install.packages(\"utils\") }\n",
    "\n",
    "# Now we download, install and initialize the H2O package for R.\n",
    "install.packages(\"h2o\", type=\"source\", repos=(c(\"http://h2o-release.s3.amazonaws.com/h2o/rel-turing/9/R\")))"
   ]
  },
  {
   "cell_type": "markdown",
   "metadata": {},
   "source": [
    "You'll also need a fairly recent and working version of Java installed on your system. This shouldn't be an issue for most people. If you don't yet have R installed on your machine, you've come to the wrong notebook...\n",
    "\n",
    "This tutorial uses data from http://archive.ics.uci.edu/ml/datasets/seeds. The data file `seeds_dataset.txt` contains 210 observations of 7 variables with an *a priori* grouping assignment.\n",
    "\n",
    "We begin by importing the data into a initializing the H2O library and runtime environment. H2O runs as a seperate Java process and the cluster initialization has many options (use `?h2o.init` to explore these). "
   ]
  },
  {
   "cell_type": "code",
   "execution_count": 1,
   "metadata": {
    "collapsed": false
   },
   "outputs": [
    {
     "name": "stderr",
     "output_type": "stream",
     "text": [
      "Loading required package: statmod\n",
      "\n",
      "----------------------------------------------------------------------\n",
      "\n",
      "Your next step is to start H2O:\n",
      "    > h2o.init()\n",
      "\n",
      "For H2O package documentation, ask for help:\n",
      "    > ??h2o\n",
      "\n",
      "After starting H2O, you can use the Web UI at http://localhost:54321\n",
      "For more information visit http://docs.h2o.ai\n",
      "\n",
      "----------------------------------------------------------------------\n",
      "\n",
      "\n",
      "Attaching package: ‘h2o’\n",
      "\n",
      "The following objects are masked from ‘package:stats’:\n",
      "\n",
      "    cor, sd, var\n",
      "\n",
      "The following objects are masked from ‘package:base’:\n",
      "\n",
      "    &&, %*%, %in%, ||, apply, as.factor, as.numeric, colnames,\n",
      "    colnames<-, ifelse, is.character, is.factor, is.numeric, log,\n",
      "    log10, log1p, log2, round, signif, trunc\n",
      "\n"
     ]
    }
   ],
   "source": [
    "library('h2o')\n",
    "\n",
    "h2o.init(nthreads=1)"
   ]
  },
  {
   "cell_type": "markdown",
   "metadata": {},
   "source": [
    "Next we'll get started with some data. Download the dataset `seeds_dataset.txt` and save it in the directory containing this notebook. To import data into H2O we use the `h2o.importFile()` function. The H2O data structures are seperate from R data structures, with some key differenences. However, we can export H2O structures as R data frames. "
   ]
  },
  {
   "cell_type": "code",
   "execution_count": null,
   "metadata": {
    "collapsed": true
   },
   "outputs": [],
   "source": [
    "#Import data from text file\n",
    "seeds.hex <- h2o.importFile('./seeds_dataset.txt')\n",
    "#create R data frame\n",
    "seedsDF <- as.data.frame(seeds.hex)\n",
    "#inspect R data frame\n",
    "head(seedsDF)\n",
    "summary(seedsDF)"
   ]
  },
  {
   "cell_type": "markdown",
   "metadata": {},
   "source": [
    "Clean up the data and re-import."
   ]
  },
  {
   "cell_type": "code",
   "execution_count": null,
   "metadata": {
    "collapsed": true
   },
   "outputs": [],
   "source": [
    "#Import data from text file\n",
    "seeds.hex <- h2o.importFile('./seeds_dataset_fixed.txt')\n",
    "#create R data frame\n",
    "seedsDF <- as.data.frame(seeds.hex)\n",
    "#inspect R data frame\n",
    "head(seedsDF)\n",
    "summary(seedsDF)"
   ]
  },
  {
   "cell_type": "markdown",
   "metadata": {},
   "source": []
  }
 ],
 "metadata": {
  "kernelspec": {
   "display_name": "R",
   "language": "R",
   "name": "ir"
  },
  "language_info": {
   "codemirror_mode": "r",
   "file_extension": ".r",
   "mimetype": "text/x-r-source",
   "name": "R",
   "pygments_lexer": "r",
   "version": "3.3.1"
  }
 },
 "nbformat": 4,
 "nbformat_minor": 0
}
