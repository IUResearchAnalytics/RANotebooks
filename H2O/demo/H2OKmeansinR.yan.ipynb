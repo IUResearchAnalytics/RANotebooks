{
 "cells": [
  {
   "cell_type": "markdown",
   "metadata": {},
   "source": [
    "# Machine Learing using H2O in R\n",
    "This demo will focus on performing a Kmeans clustering analysis for a data set using the R interface to the H2O machine learning platform. H2O is a java based machine learning platform that provides an R interface. If you don't yet have H2O installed in your R you can install by doing the following:"
   ]
  },
  {
   "cell_type": "code",
   "execution_count": null,
   "metadata": {
    "collapsed": true
   },
   "outputs": [],
   "source": [
    "# The following two commands remove any previously installed H2O packages for R.\n",
    "if (\"package:h2o\" %in% search()) { detach(\"package:h2o\", unload=TRUE) }\n",
    "if (\"h2o\" %in% rownames(installed.packages())) { remove.packages(\"h2o\") }\n",
    "\n",
    "# Next, we download packages that H2O depends on.\n",
    "if (! (\"methods\" %in% rownames(installed.packages()))) { install.packages(\"methods\") }\n",
    "if (! (\"statmod\" %in% rownames(installed.packages()))) { install.packages(\"statmod\") }\n",
    "if (! (\"stats\" %in% rownames(installed.packages()))) { install.packages(\"stats\") }\n",
    "if (! (\"graphics\" %in% rownames(installed.packages()))) { install.packages(\"graphics\") }\n",
    "if (! (\"RCurl\" %in% rownames(installed.packages()))) { install.packages(\"RCurl\") }\n",
    "if (! (\"jsonlite\" %in% rownames(installed.packages()))) { install.packages(\"jsonlite\") }\n",
    "if (! (\"tools\" %in% rownames(installed.packages()))) { install.packages(\"tools\") }\n",
    "if (! (\"utils\" %in% rownames(installed.packages()))) { install.packages(\"utils\") }\n",
    "\n",
    "# Now we download, install and initialize the H2O package for R.\n",
    "install.packages(\"h2o\", type=\"source\", repos=(c(\"http://h2o-release.s3.amazonaws.com/h2o/rel-ueno/2/R\")))"
   ]
  },
  {
   "cell_type": "markdown",
   "metadata": {},
   "source": [
    "You'll also need a fairly recent and working version of Java installed on your system. This shouldn't be an issue for most people. If you don't yet have R installed on your machine, you've come to the wrong notebook...\n",
    "\n",
    "This tutorial uses data from http://archive.ics.uci.edu/ml/datasets/seeds. The data file `seeds_dataset.txt` contains 210 observations of 7 variables with an *a priori* grouping assignment.\n",
    "\n",
    "We begin by importing the data into a initializing the H2O library and runtime environment. H2O runs as a seperate Java process and the cluster initialization has many options (use `?h2o.init` to explore these). "
   ]
  },
  {
   "cell_type": "code",
   "execution_count": 1,
   "metadata": {
    "collapsed": false
   },
   "outputs": [
    {
     "name": "stderr",
     "output_type": "stream",
     "text": [
      "\n",
      "----------------------------------------------------------------------\n",
      "\n",
      "Your next step is to start H2O:\n",
      "    > h2o.init()\n",
      "\n",
      "For H2O package documentation, ask for help:\n",
      "    > ??h2o\n",
      "\n",
      "After starting H2O, you can use the Web UI at http://localhost:54321\n",
      "For more information visit http://docs.h2o.ai\n",
      "\n",
      "----------------------------------------------------------------------\n",
      "\n",
      "\n",
      "Attaching package: 'h2o'\n",
      "\n",
      "The following objects are masked from 'package:stats':\n",
      "\n",
      "    cor, sd, var\n",
      "\n",
      "The following objects are masked from 'package:base':\n",
      "\n",
      "    %*%, %in%, &&, ||, apply, as.factor, as.numeric, colnames,\n",
      "    colnames<-, ifelse, is.character, is.factor, is.numeric, log,\n",
      "    log10, log1p, log2, round, signif, trunc\n",
      "\n"
     ]
    },
    {
     "name": "stdout",
     "output_type": "stream",
     "text": [
      "\n",
      "H2O is not running yet, starting it now...\n",
      "\n",
      "Note:  In case of errors look at the following log files:\n",
      "    C:\\Users\\zhou25\\AppData\\Local\\Temp\\RtmpMTuFi2/h2o_zhou25_started_from_r.out\n",
      "    C:\\Users\\zhou25\\AppData\\Local\\Temp\\RtmpMTuFi2/h2o_zhou25_started_from_r.err\n",
      "\n",
      "\n",
      "Starting H2O JVM and connecting: ...... Connection successful!\n",
      "\n",
      "R is connected to the H2O cluster: \n",
      "    H2O cluster uptime:         11 seconds 453 milliseconds \n",
      "    H2O cluster version:        3.10.4.2 \n",
      "    H2O cluster version age:    29 days  \n",
      "    H2O cluster name:           H2O_started_from_R_zhou25_ozf311 \n",
      "    H2O cluster total nodes:    1 \n",
      "    H2O cluster total memory:   3.53 GB \n",
      "    H2O cluster total cores:    8 \n",
      "    H2O cluster allowed cores:  1 \n",
      "    H2O cluster healthy:        TRUE \n",
      "    H2O Connection ip:          localhost \n",
      "    H2O Connection port:        54321 \n",
      "    H2O Connection proxy:       NA \n",
      "    H2O Internal Security:      FALSE \n",
      "    R Version:                  R version 3.3.3 (2017-03-06) \n",
      "\n"
     ]
    }
   ],
   "source": [
    "library(h2o)\n",
    "# Initialize and connect to h2o package, and nthreads=-1 means use all CPUs on the host. \n",
    "h2o.init(nthreads=1)"
   ]
  },
  {
   "cell_type": "markdown",
   "metadata": {},
   "source": [
    "Next we'll get started with some data. Download the dataset <code>seeds_dataset.txt</code> and save it in the directory containing this notebook. To import data into H2O we use the <code>h2o.importFile()</code> function. The H2O data structures are seperate from R data structures, with some key differenences. However, we can export H2O structures as R data frames."
   ]
  },
  {
   "cell_type": "code",
   "execution_count": 2,
   "metadata": {
    "collapsed": false
   },
   "outputs": [
    {
     "name": "stdout",
     "output_type": "stream",
     "text": [
      "\r",
      "  |                                                                            \r",
      "  |                                                                      |   0%\r",
      "  |                                                                            \r",
      "  |======================================================================| 100%\n"
     ]
    },
    {
     "data": {
      "text/html": [
       "<table>\n",
       "<thead><tr><th scope=col>C1</th><th scope=col>C2</th><th scope=col>C3</th><th scope=col>C4</th><th scope=col>C5</th><th scope=col>C6</th><th scope=col>C7</th><th scope=col>C8</th></tr></thead>\n",
       "<tbody>\n",
       "\t<tr><td>15.26 </td><td>14.84 </td><td>0.8710</td><td>5.763 </td><td>3.312 </td><td>2.221 </td><td>5.220 </td><td>1     </td></tr>\n",
       "\t<tr><td>14.88 </td><td>14.57 </td><td>0.8811</td><td>5.554 </td><td>3.333 </td><td>1.018 </td><td>4.956 </td><td>1     </td></tr>\n",
       "\t<tr><td>14.29 </td><td>14.09 </td><td>0.9050</td><td>5.291 </td><td>3.337 </td><td>2.699 </td><td>4.825 </td><td>1     </td></tr>\n",
       "\t<tr><td>13.84 </td><td>13.94 </td><td>0.8955</td><td>5.324 </td><td>3.379 </td><td>2.259 </td><td>4.805 </td><td>1     </td></tr>\n",
       "\t<tr><td>16.14 </td><td>14.99 </td><td>0.9034</td><td>5.658 </td><td>3.562 </td><td>1.355 </td><td>5.175 </td><td>1     </td></tr>\n",
       "\t<tr><td>14.38 </td><td>14.21 </td><td>0.8951</td><td>5.386 </td><td>3.312 </td><td>2.462 </td><td>4.956 </td><td>1     </td></tr>\n",
       "</tbody>\n",
       "</table>\n"
      ],
      "text/latex": [
       "\\begin{tabular}{r|llllllll}\n",
       " C1 & C2 & C3 & C4 & C5 & C6 & C7 & C8\\\\\n",
       "\\hline\n",
       "\t 15.26  & 14.84  & 0.8710 & 5.763  & 3.312  & 2.221  & 5.220  & 1     \\\\\n",
       "\t 14.88  & 14.57  & 0.8811 & 5.554  & 3.333  & 1.018  & 4.956  & 1     \\\\\n",
       "\t 14.29  & 14.09  & 0.9050 & 5.291  & 3.337  & 2.699  & 4.825  & 1     \\\\\n",
       "\t 13.84  & 13.94  & 0.8955 & 5.324  & 3.379  & 2.259  & 4.805  & 1     \\\\\n",
       "\t 16.14  & 14.99  & 0.9034 & 5.658  & 3.562  & 1.355  & 5.175  & 1     \\\\\n",
       "\t 14.38  & 14.21  & 0.8951 & 5.386  & 3.312  & 2.462  & 4.956  & 1     \\\\\n",
       "\\end{tabular}\n"
      ],
      "text/markdown": [
       "\n",
       "C1 | C2 | C3 | C4 | C5 | C6 | C7 | C8 | \n",
       "|---|---|---|---|---|---|\n",
       "| 15.26  | 14.84  | 0.8710 | 5.763  | 3.312  | 2.221  | 5.220  | 1      | \n",
       "| 14.88  | 14.57  | 0.8811 | 5.554  | 3.333  | 1.018  | 4.956  | 1      | \n",
       "| 14.29  | 14.09  | 0.9050 | 5.291  | 3.337  | 2.699  | 4.825  | 1      | \n",
       "| 13.84  | 13.94  | 0.8955 | 5.324  | 3.379  | 2.259  | 4.805  | 1      | \n",
       "| 16.14  | 14.99  | 0.9034 | 5.658  | 3.562  | 1.355  | 5.175  | 1      | \n",
       "| 14.38  | 14.21  | 0.8951 | 5.386  | 3.312  | 2.462  | 4.956  | 1      | \n",
       "\n",
       "\n"
      ],
      "text/plain": [
       "  C1    C2    C3     C4    C5    C6    C7    C8\n",
       "1 15.26 14.84 0.8710 5.763 3.312 2.221 5.220 1 \n",
       "2 14.88 14.57 0.8811 5.554 3.333 1.018 4.956 1 \n",
       "3 14.29 14.09 0.9050 5.291 3.337 2.699 4.825 1 \n",
       "4 13.84 13.94 0.8955 5.324 3.379 2.259 4.805 1 \n",
       "5 16.14 14.99 0.9034 5.658 3.562 1.355 5.175 1 \n",
       "6 14.38 14.21 0.8951 5.386 3.312 2.462 4.956 1 "
      ]
     },
     "metadata": {},
     "output_type": "display_data"
    },
    {
     "data": {
      "text/plain": [
       "       C1              C2              C3               C4        \n",
       " Min.   :10.59   Min.   :12.41   Min.   :0.8081   Min.   :0.8189  \n",
       " 1st Qu.:12.27   1st Qu.:13.45   1st Qu.:0.8577   1st Qu.:5.2447  \n",
       " Median :14.36   Median :14.32   Median :0.8735   Median :5.5180  \n",
       " Mean   :14.85   Mean   :14.56   Mean   :0.8713   Mean   :5.5639  \n",
       " 3rd Qu.:17.30   3rd Qu.:15.71   3rd Qu.:0.8877   3rd Qu.:5.9798  \n",
       " Max.   :21.18   Max.   :17.25   Max.   :0.9183   Max.   :6.6750  \n",
       "                                 NA's   :3                        \n",
       "       C5              C6               C7              C8       \n",
       " Min.   :2.630   Min.   :0.7651   Min.   :3.485   Min.   :1.000  \n",
       " 1st Qu.:2.956   1st Qu.:2.6002   1st Qu.:5.045   1st Qu.:1.000  \n",
       " Median :3.245   Median :3.5990   Median :5.226   Median :2.000  \n",
       " Mean   :3.281   Mean   :3.6935   Mean   :5.408   Mean   :2.084  \n",
       " 3rd Qu.:3.566   3rd Qu.:4.7687   3rd Qu.:5.879   3rd Qu.:3.000  \n",
       " Max.   :5.325   Max.   :8.4560   Max.   :6.735   Max.   :5.439  \n",
       " NA's   :1                        NA's   :4       NA's   :4      "
      ]
     },
     "metadata": {},
     "output_type": "display_data"
    }
   ],
   "source": [
    "#Import data from text file\n",
    "seeds.hex <- h2o.importFile('./seeds_dataset.txt')\n",
    "#create R data frame\n",
    "seedsDF <- as.data.frame(seeds.hex)\n",
    "#inspect R data frame\n",
    "head(seedsDF)\n",
    "summary(seedsDF)"
   ]
  },
  {
   "cell_type": "markdown",
   "metadata": {},
   "source": [
    "Clean up the data and re-import."
   ]
  },
  {
   "cell_type": "code",
   "execution_count": 3,
   "metadata": {
    "collapsed": false
   },
   "outputs": [
    {
     "name": "stdout",
     "output_type": "stream",
     "text": [
      "\r",
      "  |                                                                            \r",
      "  |                                                                      |   0%\r",
      "  |                                                                            \r",
      "  |======================================================================| 100%\n"
     ]
    },
    {
     "data": {
      "text/html": [
       "<table>\n",
       "<thead><tr><th scope=col>C1</th><th scope=col>C2</th><th scope=col>C3</th><th scope=col>C4</th><th scope=col>C5</th><th scope=col>C6</th><th scope=col>C7</th><th scope=col>C8</th></tr></thead>\n",
       "<tbody>\n",
       "\t<tr><td>15.26 </td><td>14.84 </td><td>0.8710</td><td>5.763 </td><td>3.312 </td><td>2.221 </td><td>5.220 </td><td>1     </td></tr>\n",
       "\t<tr><td>14.88 </td><td>14.57 </td><td>0.8811</td><td>5.554 </td><td>3.333 </td><td>1.018 </td><td>4.956 </td><td>1     </td></tr>\n",
       "\t<tr><td>14.29 </td><td>14.09 </td><td>0.9050</td><td>5.291 </td><td>3.337 </td><td>2.699 </td><td>4.825 </td><td>1     </td></tr>\n",
       "\t<tr><td>13.84 </td><td>13.94 </td><td>0.8955</td><td>5.324 </td><td>3.379 </td><td>2.259 </td><td>4.805 </td><td>1     </td></tr>\n",
       "\t<tr><td>16.14 </td><td>14.99 </td><td>0.9034</td><td>5.658 </td><td>3.562 </td><td>1.355 </td><td>5.175 </td><td>1     </td></tr>\n",
       "\t<tr><td>14.38 </td><td>14.21 </td><td>0.8951</td><td>5.386 </td><td>3.312 </td><td>2.462 </td><td>4.956 </td><td>1     </td></tr>\n",
       "</tbody>\n",
       "</table>\n"
      ],
      "text/latex": [
       "\\begin{tabular}{r|llllllll}\n",
       " C1 & C2 & C3 & C4 & C5 & C6 & C7 & C8\\\\\n",
       "\\hline\n",
       "\t 15.26  & 14.84  & 0.8710 & 5.763  & 3.312  & 2.221  & 5.220  & 1     \\\\\n",
       "\t 14.88  & 14.57  & 0.8811 & 5.554  & 3.333  & 1.018  & 4.956  & 1     \\\\\n",
       "\t 14.29  & 14.09  & 0.9050 & 5.291  & 3.337  & 2.699  & 4.825  & 1     \\\\\n",
       "\t 13.84  & 13.94  & 0.8955 & 5.324  & 3.379  & 2.259  & 4.805  & 1     \\\\\n",
       "\t 16.14  & 14.99  & 0.9034 & 5.658  & 3.562  & 1.355  & 5.175  & 1     \\\\\n",
       "\t 14.38  & 14.21  & 0.8951 & 5.386  & 3.312  & 2.462  & 4.956  & 1     \\\\\n",
       "\\end{tabular}\n"
      ],
      "text/markdown": [
       "\n",
       "C1 | C2 | C3 | C4 | C5 | C6 | C7 | C8 | \n",
       "|---|---|---|---|---|---|\n",
       "| 15.26  | 14.84  | 0.8710 | 5.763  | 3.312  | 2.221  | 5.220  | 1      | \n",
       "| 14.88  | 14.57  | 0.8811 | 5.554  | 3.333  | 1.018  | 4.956  | 1      | \n",
       "| 14.29  | 14.09  | 0.9050 | 5.291  | 3.337  | 2.699  | 4.825  | 1      | \n",
       "| 13.84  | 13.94  | 0.8955 | 5.324  | 3.379  | 2.259  | 4.805  | 1      | \n",
       "| 16.14  | 14.99  | 0.9034 | 5.658  | 3.562  | 1.355  | 5.175  | 1      | \n",
       "| 14.38  | 14.21  | 0.8951 | 5.386  | 3.312  | 2.462  | 4.956  | 1      | \n",
       "\n",
       "\n"
      ],
      "text/plain": [
       "  C1    C2    C3     C4    C5    C6    C7    C8\n",
       "1 15.26 14.84 0.8710 5.763 3.312 2.221 5.220 1 \n",
       "2 14.88 14.57 0.8811 5.554 3.333 1.018 4.956 1 \n",
       "3 14.29 14.09 0.9050 5.291 3.337 2.699 4.825 1 \n",
       "4 13.84 13.94 0.8955 5.324 3.379 2.259 4.805 1 \n",
       "5 16.14 14.99 0.9034 5.658 3.562 1.355 5.175 1 \n",
       "6 14.38 14.21 0.8951 5.386 3.312 2.462 4.956 1 "
      ]
     },
     "metadata": {},
     "output_type": "display_data"
    },
    {
     "data": {
      "text/plain": [
       "       C1              C2              C3               C4       \n",
       " Min.   :10.59   Min.   :12.41   Min.   :0.8081   Min.   :4.899  \n",
       " 1st Qu.:12.27   1st Qu.:13.45   1st Qu.:0.8569   1st Qu.:5.262  \n",
       " Median :14.36   Median :14.32   Median :0.8734   Median :5.524  \n",
       " Mean   :14.85   Mean   :14.56   Mean   :0.8710   Mean   :5.629  \n",
       " 3rd Qu.:17.30   3rd Qu.:15.71   3rd Qu.:0.8878   3rd Qu.:5.980  \n",
       " Max.   :21.18   Max.   :17.25   Max.   :0.9183   Max.   :6.675  \n",
       "       C5              C6               C7              C8   \n",
       " Min.   :2.630   Min.   :0.7651   Min.   :4.519   Min.   :1  \n",
       " 1st Qu.:2.944   1st Qu.:2.5615   1st Qu.:5.045   1st Qu.:1  \n",
       " Median :3.237   Median :3.5990   Median :5.223   Median :2  \n",
       " Mean   :3.259   Mean   :3.7002   Mean   :5.408   Mean   :2  \n",
       " 3rd Qu.:3.562   3rd Qu.:4.7687   3rd Qu.:5.877   3rd Qu.:3  \n",
       " Max.   :4.033   Max.   :8.4560   Max.   :6.550   Max.   :3  "
      ]
     },
     "metadata": {},
     "output_type": "display_data"
    }
   ],
   "source": [
    "#Import data from text file\n",
    "seeds.hex <- h2o.importFile('./seeds_dataset_fixed.txt')\n",
    "#create R data frame\n",
    "seedsDF <- as.data.frame(seeds.hex)\n",
    "#inspect R data frame\n",
    "head(seedsDF)\n",
    "summary(seedsDF)"
   ]
  },
  {
   "cell_type": "code",
   "execution_count": 4,
   "metadata": {
    "collapsed": true
   },
   "outputs": [],
   "source": [
    "#Remove correct answers\n",
    "seedsCOR <- as.factor(seedsDF$C8)\n",
    "seedsDF$C8 <- NULL"
   ]
  },
  {
   "cell_type": "markdown",
   "metadata": {},
   "source": [
    "We now have imported the data into an H2O data object and have access to it as an R data frame. It is important to remember that these are two seperate objects and altering one will not change the other. Next let's construct a Kmeans clustering model using the H2O function <code>h2o.kmeans</code>, and inspect the results."
   ]
  },
  {
   "cell_type": "code",
   "execution_count": 5,
   "metadata": {
    "collapsed": false
   },
   "outputs": [
    {
     "name": "stdout",
     "output_type": "stream",
     "text": [
      "  |======================================================================| 100%\n",
      "Model Details:\n",
      "==============\n",
      "\n",
      "H2OClusteringModel: kmeans\n",
      "Model Key:  KMeans_model_R_1492437075536_1 \n",
      "Model Summary: \n",
      "  number_of_rows number_of_clusters number_of_categorical_columns\n",
      "1            210                  3                             0\n",
      "  number_of_iterations within_cluster_sum_of_squares total_sum_of_squares\n",
      "1                   11                     428.60822           1463.00000\n",
      "  between_cluster_sum_of_squares\n",
      "1                     1034.39178\n",
      "\n",
      "H2OClusteringMetrics: kmeans\n",
      "** Reported on training data. **\n",
      "\n",
      "\n",
      "Total Within SS:  428.6082\n",
      "Between SS:  1034.392\n",
      "Total SS:  1463 \n",
      "Centroid Statistics: \n",
      "  centroid     size within_cluster_sum_of_squares\n",
      "1        1 72.00000                     144.59544\n",
      "2        2 67.00000                     139.55416\n",
      "3        3 71.00000                     144.45861\n",
      "\n",
      "\n",
      "\n",
      "\n",
      "Scoring History: \n",
      "             timestamp   duration iteration number_of_reassigned_observations\n",
      "1  2017-04-17 09:56:22  0.025 sec         0                                  \n",
      "2  2017-04-17 09:56:22  0.171 sec         1                               210\n",
      "3  2017-04-17 09:56:22  0.191 sec         2                                54\n",
      "4  2017-04-17 09:56:22  0.194 sec         3                                19\n",
      "5  2017-04-17 09:56:22  0.196 sec         4                                14\n",
      "6  2017-04-17 09:56:22  0.198 sec         5                                 7\n",
      "7  2017-04-17 09:56:22  0.200 sec         6                                 1\n",
      "8  2017-04-17 09:56:22  0.203 sec         7                                 1\n",
      "9  2017-04-17 09:56:22  0.206 sec         8                                 1\n",
      "10 2017-04-17 09:56:22  0.209 sec         9                                 2\n",
      "11 2017-04-17 09:56:22  0.211 sec        10                                 1\n",
      "12 2017-04-17 09:56:22  0.214 sec        11                                 0\n",
      "   within_cluster_sum_of_squares\n",
      "1                               \n",
      "2                     1432.03843\n",
      "3                      592.75620\n",
      "4                      472.37988\n",
      "5                      443.85705\n",
      "6                      432.61704\n",
      "7                      429.58423\n",
      "8                      429.36611\n",
      "9                      429.22299\n",
      "10                     428.97274\n",
      "11                     428.68802\n",
      "12                     428.60822\n",
      "\n"
     ]
    },
    {
     "data": {
      "text/html": [
       "<table>\n",
       "<thead><tr><th scope=col>c1</th><th scope=col>c2</th><th scope=col>c3</th><th scope=col>c4</th><th scope=col>c5</th><th scope=col>c6</th><th scope=col>c7</th></tr></thead>\n",
       "<tbody>\n",
       "\t<tr><td>11.85694 </td><td>13.24778 </td><td>0.8482528</td><td>5.231750 </td><td>2.849542 </td><td>4.742389 </td><td>5.101722 </td></tr>\n",
       "\t<tr><td>18.49537 </td><td>16.20343 </td><td>0.8842104</td><td>6.175687 </td><td>3.697537 </td><td>3.632373 </td><td>6.041701 </td></tr>\n",
       "\t<tr><td>14.43789 </td><td>14.33775 </td><td>0.8815972</td><td>5.514577 </td><td>3.259225 </td><td>2.707341 </td><td>5.120803 </td></tr>\n",
       "</tbody>\n",
       "</table>\n"
      ],
      "text/latex": [
       "\\begin{tabular}{r|lllllll}\n",
       " c1 & c2 & c3 & c4 & c5 & c6 & c7\\\\\n",
       "\\hline\n",
       "\t 11.85694  & 13.24778  & 0.8482528 & 5.231750  & 2.849542  & 4.742389  & 5.101722 \\\\\n",
       "\t 18.49537  & 16.20343  & 0.8842104 & 6.175687  & 3.697537  & 3.632373  & 6.041701 \\\\\n",
       "\t 14.43789  & 14.33775  & 0.8815972 & 5.514577  & 3.259225  & 2.707341  & 5.120803 \\\\\n",
       "\\end{tabular}\n"
      ],
      "text/markdown": [
       "\n",
       "c1 | c2 | c3 | c4 | c5 | c6 | c7 | \n",
       "|---|---|---|\n",
       "| 11.85694  | 13.24778  | 0.8482528 | 5.231750  | 2.849542  | 4.742389  | 5.101722  | \n",
       "| 18.49537  | 16.20343  | 0.8842104 | 6.175687  | 3.697537  | 3.632373  | 6.041701  | \n",
       "| 14.43789  | 14.33775  | 0.8815972 | 5.514577  | 3.259225  | 2.707341  | 5.120803  | \n",
       "\n",
       "\n"
      ],
      "text/plain": [
       "  c1       c2       c3        c4       c5       c6       c7      \n",
       "1 11.85694 13.24778 0.8482528 5.231750 2.849542 4.742389 5.101722\n",
       "2 18.49537 16.20343 0.8842104 6.175687 3.697537 3.632373 6.041701\n",
       "3 14.43789 14.33775 0.8815972 5.514577 3.259225 2.707341 5.120803"
      ]
     },
     "metadata": {},
     "output_type": "display_data"
    }
   ],
   "source": [
    "seedsKM <- h2o.kmeans(training_frame = seeds.hex, k=3, init=\"PlusPlus\", max_iterations = 100, \n",
    "                      x=c('C1','C2','C3','C4','C5','C6','C7'))\n",
    "summary(seedsKM)\n",
    "h2o.centers(seedsKM)"
   ]
  },
  {
   "cell_type": "markdown",
   "metadata": {},
   "source": [
    "We now have a model based on the data. Let's see how well the clustering algorithm performed. First we can get the cluster predictions from the model and plot them against the principal components. \n",
    "\n",
    "The output above shows the process as how the <code>h2o.kmeans</code> works. After 9 iternations, the model clutered the data into 3 clusters successfully without anymore reassignment of the observations, and the within cluster sum of squares was the smallest.\n",
    "\n",
    "The <code>h2o.centers</code> retrived the model centers after clustering."
   ]
  },
  {
   "cell_type": "code",
   "execution_count": 46,
   "metadata": {
    "collapsed": false
   },
   "outputs": [
    {
     "name": "stderr",
     "output_type": "stream",
     "text": [
      "Warning message:\n",
      "\"package 'fpc' is in use and will not be installed\""
     ]
    }
   ],
   "source": [
    "install.packages(\"fpc\", repos=\"http://cran.us.r-project.org\")"
   ]
  },
  {
   "cell_type": "code",
   "execution_count": 6,
   "metadata": {
    "collapsed": false
   },
   "outputs": [
    {
     "name": "stdout",
     "output_type": "stream",
     "text": [
      "\r",
      "  |                                                                            \r",
      "  |                                                                      |   0%\r",
      "  |                                                                            \r",
      "  |======================================================================| 100%\n"
     ]
    },
    {
     "name": "stderr",
     "output_type": "stream",
     "text": [
      "Warning message in summary.H2OFrame(seedsFIT):\n",
      "\"Approximated quantiles computed! If you are interested in exact quantiles, please pass the `exact_quantiles=TRUE` parameter.\""
     ]
    },
    {
     "data": {
      "text/plain": [
       " predict         \n",
       " Min.   :0.0000  \n",
       " 1st Qu.:0.0000  \n",
       " Median :1.0000  \n",
       " Mean   :0.9952  \n",
       " 3rd Qu.:2.0000  \n",
       " Max.   :2.0000  "
      ]
     },
     "metadata": {},
     "output_type": "display_data"
    }
   ],
   "source": [
    "library(fpc)\n",
    "library(cluster)\n",
    "#Predict on an H2O model\n",
    "seedsFIT <- h2o.predict(seedsKM, seeds.hex)\n",
    "summary(seedsFIT)"
   ]
  },
  {
   "cell_type": "code",
   "execution_count": 7,
   "metadata": {
    "collapsed": true
   },
   "outputs": [],
   "source": [
    "seedsFIT <- as.factor(as.numeric(seedsFIT$predict))"
   ]
  },
  {
   "cell_type": "code",
   "execution_count": 8,
   "metadata": {
    "collapsed": false
   },
   "outputs": [
    {
     "data": {
      "text/html": [
       "'environment'"
      ],
      "text/latex": [
       "'environment'"
      ],
      "text/markdown": [
       "'environment'"
      ],
      "text/plain": [
       "[1] \"environment\""
      ]
     },
     "metadata": {},
     "output_type": "display_data"
    }
   ],
   "source": [
    "typeof(seedsFIT)"
   ]
  },
  {
   "cell_type": "code",
   "execution_count": 9,
   "metadata": {
    "collapsed": false
   },
   "outputs": [
    {
     "name": "stderr",
     "output_type": "stream",
     "text": [
      "Warning message in summary.H2OFrame(seedsFIT):\n",
      "\"Approximated quantiles computed! If you are interested in exact quantiles, please pass the `exact_quantiles=TRUE` parameter.\""
     ]
    },
    {
     "data": {
      "text/plain": [
       " predict\n",
       " 0:72   \n",
       " 2:71   \n",
       " 1:67   "
      ]
     },
     "metadata": {},
     "output_type": "display_data"
    }
   ],
   "source": [
    "summary(seedsFIT)"
   ]
  },
  {
   "cell_type": "code",
   "execution_count": 18,
   "metadata": {
    "collapsed": false
   },
   "outputs": [
    {
     "data": {
      "image/png": "[encoded data removed]",
      "text/plain": [
       "Plot with title \"CLUSPLOT( seedsDF )\""
      ]
     },
     "metadata": {},
     "output_type": "display_data"
    }
   ],
   "source": [
    "clusplot(seedsDF, seedsFIT, color=TRUE, shade=TRUE, labels=2, lines=0)"
   ]
  },
  {
   "cell_type": "markdown",
   "metadata": {},
   "source": [
    "The <code>clusplot</code> function in the <code>cluster</code> package draws a 2-dimensional clustering plot with each cluster surrounded by an ellipse. All observations are indicated by points in the plot based on principal components or multidimensional scaling. \n",
    "\n",
    "Three clusters were created above. Each cluster were shaded and labeled. Points in each cluster were shown using different shapes. "
   ]
  },
  {
   "cell_type": "code",
   "execution_count": 14,
   "metadata": {
    "collapsed": false
   },
   "outputs": [],
   "source": [
    "princomp <- prcomp(seedsDF, center = TRUE, scale. = TRUE)"
   ]
  },
  {
   "cell_type": "markdown",
   "metadata": {},
   "source": [
    "Apply function <code>prcomp</code> to check up more details regarding the principal component analysis consisted in the <code>clusplot</code> function above."
   ]
  },
  {
   "cell_type": "code",
   "execution_count": 15,
   "metadata": {
    "collapsed": false,
    "scrolled": true
   },
   "outputs": [
    {
     "name": "stdout",
     "output_type": "stream",
     "text": [
      "Standard deviations:\n",
      "[1] 2.24303392 1.09433672 0.82340964 0.26146601 0.13679769 0.07302086 0.02850258\n",
      "\n",
      "Rotation:\n",
      "          PC1         PC2         PC3         PC4         PC5         PC6\n",
      "C1 -0.4444735  0.02656355 -0.02587094  0.19363997 -0.20441167  0.42643686\n",
      "C2 -0.4415715  0.08400282  0.05983912  0.29545659 -0.17427591  0.47623853\n",
      "C3 -0.2770174 -0.52915125 -0.62969178 -0.33281640  0.33265481  0.14162884\n",
      "C4 -0.4235633  0.20597518  0.21187966  0.26340659  0.76609839 -0.27357647\n",
      "C5 -0.4328187 -0.11668963 -0.21648338  0.19963039 -0.46536555 -0.70301171\n",
      "C6  0.1186925  0.71688203 -0.67950584  0.09246481  0.03625822  0.01964186\n",
      "C7 -0.3871608  0.37719327  0.21389720 -0.80414995 -0.11134657 -0.04282974\n",
      "            PC7\n",
      "C1  0.734805689\n",
      "C2 -0.670751532\n",
      "C3 -0.072552703\n",
      "C4  0.046276051\n",
      "C5 -0.039289079\n",
      "C6 -0.003723456\n",
      "C7 -0.034498098\n"
     ]
    }
   ],
   "source": [
    "print(princomp)"
   ]
  },
  {
   "cell_type": "markdown",
   "metadata": {},
   "source": [
    "The <code>print</code> method returns the standard deviations of the 7 components, and their rotated loadings that are the coefficients of the linear combinations of the continuous variables in the data. "
   ]
  },
  {
   "cell_type": "code",
   "execution_count": 16,
   "metadata": {
    "collapsed": false
   },
   "outputs": [
    {
     "data": {
      "text/plain": [
       "Importance of components:\n",
       "                          PC1    PC2     PC3     PC4     PC5     PC6     PC7\n",
       "Standard deviation     2.2430 1.0943 0.82341 0.26147 0.13680 0.07302 0.02850\n",
       "Proportion of Variance 0.7187 0.1711 0.09686 0.00977 0.00267 0.00076 0.00012\n",
       "Cumulative Proportion  0.7187 0.8898 0.98668 0.99645 0.99912 0.99988 1.00000"
      ]
     },
     "metadata": {},
     "output_type": "display_data"
    }
   ],
   "source": [
    "summary(princomp)"
   ]
  },
  {
   "cell_type": "markdown",
   "metadata": {},
   "source": [
    "The <code> summary </code> method shows the standard deviation of each of the 7 PCs in the first row. The second row indicates the propotion of the variance in the data explained by each of the sever PCs, which was sorted by descending. The thrid row contains the cummulative proportion of explained variance. We can find that the first two pCs explained 88.98%of the variance in the data, which is consistent with the result showed by <code>clusplot</code> function. "
   ]
  },
  {
   "cell_type": "code",
   "execution_count": 36,
   "metadata": {
    "collapsed": false
   },
   "outputs": [
    {
     "data": {
      "image/png": "[encoded data removed]",
      "text/plain": [
       "Plot with title \"princomp\""
      ]
     },
     "metadata": {},
     "output_type": "display_data"
    }
   ],
   "source": [
    "plot(princomp, type = \"l\")"
   ]
  },
  {
   "cell_type": "markdown",
   "metadata": {},
   "source": [
    "The <code>plot</code> method returns a plot that describes the variances (y-axis) associated with PCs (x-axis). \n",
    "\n",
    "The figure above shows that the first two PCs explained most of the variability in the data. "
   ]
  },
  {
   "cell_type": "code",
   "execution_count": 20,
   "metadata": {
    "collapsed": false
   },
   "outputs": [],
   "source": [
    "predict_frame <- as.data.frame(seedsFIT)"
   ]
  },
  {
   "cell_type": "code",
   "execution_count": 21,
   "metadata": {
    "collapsed": false
   },
   "outputs": [],
   "source": [
    "predict <- as.integer(predict_frame$predict)"
   ]
  },
  {
   "cell_type": "code",
   "execution_count": 23,
   "metadata": {
    "collapsed": false
   },
   "outputs": [
    {
     "data": {
      "image/png": "[encoded data removed]",
      "text/plain": [
       "plot without title"
      ]
     },
     "metadata": {},
     "output_type": "display_data"
    }
   ],
   "source": [
    "plotcluster(seedsDF, predict)"
   ]
  },
  {
   "cell_type": "code",
   "execution_count": 24,
   "metadata": {
    "collapsed": false
   },
   "outputs": [
    {
     "data": {
      "image/png": "[encoded data removed]",
      "text/plain": [
       "plot without title"
      ]
     },
     "metadata": {},
     "output_type": "display_data"
    }
   ],
   "source": [
    "plotcluster(seedsDF, seedsCOR)"
   ]
  },
  {
   "cell_type": "markdown",
   "metadata": {},
   "source": [
    "Finally, let's check for correctness."
   ]
  },
  {
   "cell_type": "code",
   "execution_count": 25,
   "metadata": {
    "collapsed": false
   },
   "outputs": [
    {
     "data": {
      "text/plain": [
       "  predict Count\n",
       "1       0    72\n",
       "2       1    67\n",
       "3       2    71\n",
       "\n",
       "[3 rows x 2 columns] "
      ]
     },
     "metadata": {},
     "output_type": "display_data"
    }
   ],
   "source": [
    "h2o.table(seedsFIT$predict)"
   ]
  },
  {
   "cell_type": "code",
   "execution_count": 10,
   "metadata": {
    "collapsed": false
   },
   "outputs": [
    {
     "name": "stdout",
     "output_type": "stream",
     "text": [
      "package 'plyr' successfully unpacked and MD5 sums checked\n",
      "\n",
      "The downloaded binary packages are in\n",
      "\tC:\\Users\\zhou25\\AppData\\Local\\Temp\\RtmpqulBww\\downloaded_packages\n"
     ]
    }
   ],
   "source": [
    "install.packages(\"plyr\", repos=\"http://cran.us.r-project.org\")"
   ]
  },
  {
   "cell_type": "code",
   "execution_count": 26,
   "metadata": {
    "collapsed": false
   },
   "outputs": [
    {
     "data": {
      "text/plain": [
       "predict\n",
       " 1  2  3 \n",
       "72 67 71 "
      ]
     },
     "metadata": {},
     "output_type": "display_data"
    }
   ],
   "source": [
    "predict <- as.factor(predict)\n",
    "table(predict)"
   ]
  },
  {
   "cell_type": "code",
   "execution_count": 27,
   "metadata": {
    "collapsed": true
   },
   "outputs": [],
   "source": [
    "library(plyr)"
   ]
  },
  {
   "cell_type": "code",
   "execution_count": 28,
   "metadata": {
    "collapsed": false
   },
   "outputs": [
    {
     "data": {
      "text/plain": [
       "predict\n",
       " 1  2  3 \n",
       "72 67 71 "
      ]
     },
     "metadata": {},
     "output_type": "display_data"
    },
    {
     "data": {
      "text/plain": [
       "seedsCOR\n",
       " 1  2  3 \n",
       "70 70 70 "
      ]
     },
     "metadata": {},
     "output_type": "display_data"
    }
   ],
   "source": [
    "table(predict)\n",
    "table(seedsCOR)"
   ]
  },
  {
   "cell_type": "code",
   "execution_count": 29,
   "metadata": {
    "collapsed": false
   },
   "outputs": [
    {
     "name": "stdout",
     "output_type": "stream",
     "text": [
      " Factor w/ 3 levels \"1\",\"2\",\"3\": 3 3 3 3 3 3 3 3 2 3 ...\n"
     ]
    }
   ],
   "source": [
    "str(predict)"
   ]
  },
  {
   "cell_type": "code",
   "execution_count": 30,
   "metadata": {
    "collapsed": false
   },
   "outputs": [
    {
     "data": {
      "text/html": [
       "<ol class=list-inline>\n",
       "\t<li>3</li>\n",
       "\t<li>3</li>\n",
       "\t<li>3</li>\n",
       "\t<li>3</li>\n",
       "\t<li>3</li>\n",
       "\t<li>3</li>\n",
       "\t<li>3</li>\n",
       "\t<li>3</li>\n",
       "\t<li>2</li>\n",
       "\t<li>3</li>\n",
       "\t<li>3</li>\n",
       "\t<li>3</li>\n",
       "\t<li>3</li>\n",
       "\t<li>3</li>\n",
       "\t<li>3</li>\n",
       "\t<li>3</li>\n",
       "\t<li>3</li>\n",
       "\t<li>3</li>\n",
       "\t<li>3</li>\n",
       "\t<li>1</li>\n",
       "\t<li>3</li>\n",
       "\t<li>3</li>\n",
       "\t<li>3</li>\n",
       "\t<li>3</li>\n",
       "\t<li>3</li>\n",
       "\t<li>3</li>\n",
       "\t<li>3</li>\n",
       "\t<li>3</li>\n",
       "\t<li>3</li>\n",
       "\t<li>3</li>\n",
       "\t<li>3</li>\n",
       "\t<li>3</li>\n",
       "\t<li>3</li>\n",
       "\t<li>3</li>\n",
       "\t<li>3</li>\n",
       "\t<li>3</li>\n",
       "\t<li>3</li>\n",
       "\t<li>2</li>\n",
       "\t<li>3</li>\n",
       "\t<li>3</li>\n",
       "\t<li>3</li>\n",
       "\t<li>3</li>\n",
       "\t<li>3</li>\n",
       "\t<li>3</li>\n",
       "\t<li>3</li>\n",
       "\t<li>3</li>\n",
       "\t<li>3</li>\n",
       "\t<li>3</li>\n",
       "\t<li>3</li>\n",
       "\t<li>3</li>\n",
       "\t<li>3</li>\n",
       "\t<li>3</li>\n",
       "\t<li>3</li>\n",
       "\t<li>3</li>\n",
       "\t<li>3</li>\n",
       "\t<li>3</li>\n",
       "\t<li>3</li>\n",
       "\t<li>3</li>\n",
       "\t<li>3</li>\n",
       "\t<li>1</li>\n",
       "\t<li>1</li>\n",
       "\t<li>1</li>\n",
       "\t<li>3</li>\n",
       "\t<li>1</li>\n",
       "\t<li>3</li>\n",
       "\t<li>3</li>\n",
       "\t<li>3</li>\n",
       "\t<li>3</li>\n",
       "\t<li>3</li>\n",
       "\t<li>1</li>\n",
       "\t<li>2</li>\n",
       "\t<li>2</li>\n",
       "\t<li>2</li>\n",
       "\t<li>2</li>\n",
       "\t<li>2</li>\n",
       "\t<li>2</li>\n",
       "\t<li>2</li>\n",
       "\t<li>2</li>\n",
       "\t<li>2</li>\n",
       "\t<li>2</li>\n",
       "\t<li>2</li>\n",
       "\t<li>2</li>\n",
       "\t<li>2</li>\n",
       "\t<li>2</li>\n",
       "\t<li>2</li>\n",
       "\t<li>2</li>\n",
       "\t<li>2</li>\n",
       "\t<li>2</li>\n",
       "\t<li>2</li>\n",
       "\t<li>2</li>\n",
       "\t<li>2</li>\n",
       "\t<li>2</li>\n",
       "\t<li>2</li>\n",
       "\t<li>2</li>\n",
       "\t<li>2</li>\n",
       "\t<li>2</li>\n",
       "\t<li>2</li>\n",
       "\t<li>2</li>\n",
       "\t<li>2</li>\n",
       "\t<li>2</li>\n",
       "\t<li>2</li>\n",
       "\t<li>2</li>\n",
       "\t<li>2</li>\n",
       "\t<li>2</li>\n",
       "\t<li>2</li>\n",
       "\t<li>2</li>\n",
       "\t<li>2</li>\n",
       "\t<li>2</li>\n",
       "\t<li>2</li>\n",
       "\t<li>2</li>\n",
       "\t<li>2</li>\n",
       "\t<li>2</li>\n",
       "\t<li>2</li>\n",
       "\t<li>2</li>\n",
       "\t<li>2</li>\n",
       "\t<li>2</li>\n",
       "\t<li>2</li>\n",
       "\t<li>2</li>\n",
       "\t<li>2</li>\n",
       "\t<li>2</li>\n",
       "\t<li>2</li>\n",
       "\t<li>2</li>\n",
       "\t<li>2</li>\n",
       "\t<li>2</li>\n",
       "\t<li>3</li>\n",
       "\t<li>2</li>\n",
       "\t<li>2</li>\n",
       "\t<li>2</li>\n",
       "\t<li>2</li>\n",
       "\t<li>2</li>\n",
       "\t<li>2</li>\n",
       "\t<li>2</li>\n",
       "\t<li>3</li>\n",
       "\t<li>2</li>\n",
       "\t<li>2</li>\n",
       "\t<li>3</li>\n",
       "\t<li>2</li>\n",
       "\t<li>3</li>\n",
       "\t<li>3</li>\n",
       "\t<li>2</li>\n",
       "\t<li>1</li>\n",
       "\t<li>1</li>\n",
       "\t<li>1</li>\n",
       "\t<li>1</li>\n",
       "\t<li>1</li>\n",
       "\t<li>1</li>\n",
       "\t<li>1</li>\n",
       "\t<li>1</li>\n",
       "\t<li>1</li>\n",
       "\t<li>1</li>\n",
       "\t<li>1</li>\n",
       "\t<li>1</li>\n",
       "\t<li>1</li>\n",
       "\t<li>1</li>\n",
       "\t<li>1</li>\n",
       "\t<li>1</li>\n",
       "\t<li>1</li>\n",
       "\t<li>1</li>\n",
       "\t<li>1</li>\n",
       "\t<li>1</li>\n",
       "\t<li>1</li>\n",
       "\t<li>1</li>\n",
       "\t<li>1</li>\n",
       "\t<li>1</li>\n",
       "\t<li>1</li>\n",
       "\t<li>3</li>\n",
       "\t<li>1</li>\n",
       "\t<li>1</li>\n",
       "\t<li>1</li>\n",
       "\t<li>1</li>\n",
       "\t<li>1</li>\n",
       "\t<li>1</li>\n",
       "\t<li>1</li>\n",
       "\t<li>1</li>\n",
       "\t<li>1</li>\n",
       "\t<li>1</li>\n",
       "\t<li>1</li>\n",
       "\t<li>1</li>\n",
       "\t<li>1</li>\n",
       "\t<li>1</li>\n",
       "\t<li>1</li>\n",
       "\t<li>1</li>\n",
       "\t<li>1</li>\n",
       "\t<li>1</li>\n",
       "\t<li>1</li>\n",
       "\t<li>1</li>\n",
       "\t<li>1</li>\n",
       "\t<li>1</li>\n",
       "\t<li>1</li>\n",
       "\t<li>1</li>\n",
       "\t<li>1</li>\n",
       "\t<li>1</li>\n",
       "\t<li>1</li>\n",
       "\t<li>1</li>\n",
       "\t<li>1</li>\n",
       "\t<li>1</li>\n",
       "\t<li>1</li>\n",
       "\t<li>3</li>\n",
       "\t<li>1</li>\n",
       "\t<li>3</li>\n",
       "\t<li>1</li>\n",
       "\t<li>3</li>\n",
       "\t<li>1</li>\n",
       "\t<li>1</li>\n",
       "\t<li>1</li>\n",
       "\t<li>1</li>\n",
       "\t<li>1</li>\n",
       "\t<li>1</li>\n",
       "\t<li>1</li>\n",
       "\t<li>1</li>\n",
       "</ol>\n"
      ],
      "text/latex": [
       "\\begin{enumerate*}\n",
       "\\item 3\n",
       "\\item 3\n",
       "\\item 3\n",
       "\\item 3\n",
       "\\item 3\n",
       "\\item 3\n",
       "\\item 3\n",
       "\\item 3\n",
       "\\item 2\n",
       "\\item 3\n",
       "\\item 3\n",
       "\\item 3\n",
       "\\item 3\n",
       "\\item 3\n",
       "\\item 3\n",
       "\\item 3\n",
       "\\item 3\n",
       "\\item 3\n",
       "\\item 3\n",
       "\\item 1\n",
       "\\item 3\n",
       "\\item 3\n",
       "\\item 3\n",
       "\\item 3\n",
       "\\item 3\n",
       "\\item 3\n",
       "\\item 3\n",
       "\\item 3\n",
       "\\item 3\n",
       "\\item 3\n",
       "\\item 3\n",
       "\\item 3\n",
       "\\item 3\n",
       "\\item 3\n",
       "\\item 3\n",
       "\\item 3\n",
       "\\item 3\n",
       "\\item 2\n",
       "\\item 3\n",
       "\\item 3\n",
       "\\item 3\n",
       "\\item 3\n",
       "\\item 3\n",
       "\\item 3\n",
       "\\item 3\n",
       "\\item 3\n",
       "\\item 3\n",
       "\\item 3\n",
       "\\item 3\n",
       "\\item 3\n",
       "\\item 3\n",
       "\\item 3\n",
       "\\item 3\n",
       "\\item 3\n",
       "\\item 3\n",
       "\\item 3\n",
       "\\item 3\n",
       "\\item 3\n",
       "\\item 3\n",
       "\\item 1\n",
       "\\item 1\n",
       "\\item 1\n",
       "\\item 3\n",
       "\\item 1\n",
       "\\item 3\n",
       "\\item 3\n",
       "\\item 3\n",
       "\\item 3\n",
       "\\item 3\n",
       "\\item 1\n",
       "\\item 2\n",
       "\\item 2\n",
       "\\item 2\n",
       "\\item 2\n",
       "\\item 2\n",
       "\\item 2\n",
       "\\item 2\n",
       "\\item 2\n",
       "\\item 2\n",
       "\\item 2\n",
       "\\item 2\n",
       "\\item 2\n",
       "\\item 2\n",
       "\\item 2\n",
       "\\item 2\n",
       "\\item 2\n",
       "\\item 2\n",
       "\\item 2\n",
       "\\item 2\n",
       "\\item 2\n",
       "\\item 2\n",
       "\\item 2\n",
       "\\item 2\n",
       "\\item 2\n",
       "\\item 2\n",
       "\\item 2\n",
       "\\item 2\n",
       "\\item 2\n",
       "\\item 2\n",
       "\\item 2\n",
       "\\item 2\n",
       "\\item 2\n",
       "\\item 2\n",
       "\\item 2\n",
       "\\item 2\n",
       "\\item 2\n",
       "\\item 2\n",
       "\\item 2\n",
       "\\item 2\n",
       "\\item 2\n",
       "\\item 2\n",
       "\\item 2\n",
       "\\item 2\n",
       "\\item 2\n",
       "\\item 2\n",
       "\\item 2\n",
       "\\item 2\n",
       "\\item 2\n",
       "\\item 2\n",
       "\\item 2\n",
       "\\item 2\n",
       "\\item 2\n",
       "\\item 2\n",
       "\\item 2\n",
       "\\item 3\n",
       "\\item 2\n",
       "\\item 2\n",
       "\\item 2\n",
       "\\item 2\n",
       "\\item 2\n",
       "\\item 2\n",
       "\\item 2\n",
       "\\item 3\n",
       "\\item 2\n",
       "\\item 2\n",
       "\\item 3\n",
       "\\item 2\n",
       "\\item 3\n",
       "\\item 3\n",
       "\\item 2\n",
       "\\item 1\n",
       "\\item 1\n",
       "\\item 1\n",
       "\\item 1\n",
       "\\item 1\n",
       "\\item 1\n",
       "\\item 1\n",
       "\\item 1\n",
       "\\item 1\n",
       "\\item 1\n",
       "\\item 1\n",
       "\\item 1\n",
       "\\item 1\n",
       "\\item 1\n",
       "\\item 1\n",
       "\\item 1\n",
       "\\item 1\n",
       "\\item 1\n",
       "\\item 1\n",
       "\\item 1\n",
       "\\item 1\n",
       "\\item 1\n",
       "\\item 1\n",
       "\\item 1\n",
       "\\item 1\n",
       "\\item 3\n",
       "\\item 1\n",
       "\\item 1\n",
       "\\item 1\n",
       "\\item 1\n",
       "\\item 1\n",
       "\\item 1\n",
       "\\item 1\n",
       "\\item 1\n",
       "\\item 1\n",
       "\\item 1\n",
       "\\item 1\n",
       "\\item 1\n",
       "\\item 1\n",
       "\\item 1\n",
       "\\item 1\n",
       "\\item 1\n",
       "\\item 1\n",
       "\\item 1\n",
       "\\item 1\n",
       "\\item 1\n",
       "\\item 1\n",
       "\\item 1\n",
       "\\item 1\n",
       "\\item 1\n",
       "\\item 1\n",
       "\\item 1\n",
       "\\item 1\n",
       "\\item 1\n",
       "\\item 1\n",
       "\\item 1\n",
       "\\item 1\n",
       "\\item 3\n",
       "\\item 1\n",
       "\\item 3\n",
       "\\item 1\n",
       "\\item 3\n",
       "\\item 1\n",
       "\\item 1\n",
       "\\item 1\n",
       "\\item 1\n",
       "\\item 1\n",
       "\\item 1\n",
       "\\item 1\n",
       "\\item 1\n",
       "\\end{enumerate*}\n"
      ],
      "text/markdown": [
       "1. 3\n",
       "2. 3\n",
       "3. 3\n",
       "4. 3\n",
       "5. 3\n",
       "6. 3\n",
       "7. 3\n",
       "8. 3\n",
       "9. 2\n",
       "10. 3\n",
       "11. 3\n",
       "12. 3\n",
       "13. 3\n",
       "14. 3\n",
       "15. 3\n",
       "16. 3\n",
       "17. 3\n",
       "18. 3\n",
       "19. 3\n",
       "20. 1\n",
       "21. 3\n",
       "22. 3\n",
       "23. 3\n",
       "24. 3\n",
       "25. 3\n",
       "26. 3\n",
       "27. 3\n",
       "28. 3\n",
       "29. 3\n",
       "30. 3\n",
       "31. 3\n",
       "32. 3\n",
       "33. 3\n",
       "34. 3\n",
       "35. 3\n",
       "36. 3\n",
       "37. 3\n",
       "38. 2\n",
       "39. 3\n",
       "40. 3\n",
       "41. 3\n",
       "42. 3\n",
       "43. 3\n",
       "44. 3\n",
       "45. 3\n",
       "46. 3\n",
       "47. 3\n",
       "48. 3\n",
       "49. 3\n",
       "50. 3\n",
       "51. 3\n",
       "52. 3\n",
       "53. 3\n",
       "54. 3\n",
       "55. 3\n",
       "56. 3\n",
       "57. 3\n",
       "58. 3\n",
       "59. 3\n",
       "60. 1\n",
       "61. 1\n",
       "62. 1\n",
       "63. 3\n",
       "64. 1\n",
       "65. 3\n",
       "66. 3\n",
       "67. 3\n",
       "68. 3\n",
       "69. 3\n",
       "70. 1\n",
       "71. 2\n",
       "72. 2\n",
       "73. 2\n",
       "74. 2\n",
       "75. 2\n",
       "76. 2\n",
       "77. 2\n",
       "78. 2\n",
       "79. 2\n",
       "80. 2\n",
       "81. 2\n",
       "82. 2\n",
       "83. 2\n",
       "84. 2\n",
       "85. 2\n",
       "86. 2\n",
       "87. 2\n",
       "88. 2\n",
       "89. 2\n",
       "90. 2\n",
       "91. 2\n",
       "92. 2\n",
       "93. 2\n",
       "94. 2\n",
       "95. 2\n",
       "96. 2\n",
       "97. 2\n",
       "98. 2\n",
       "99. 2\n",
       "100. 2\n",
       "101. 2\n",
       "102. 2\n",
       "103. 2\n",
       "104. 2\n",
       "105. 2\n",
       "106. 2\n",
       "107. 2\n",
       "108. 2\n",
       "109. 2\n",
       "110. 2\n",
       "111. 2\n",
       "112. 2\n",
       "113. 2\n",
       "114. 2\n",
       "115. 2\n",
       "116. 2\n",
       "117. 2\n",
       "118. 2\n",
       "119. 2\n",
       "120. 2\n",
       "121. 2\n",
       "122. 2\n",
       "123. 2\n",
       "124. 2\n",
       "125. 3\n",
       "126. 2\n",
       "127. 2\n",
       "128. 2\n",
       "129. 2\n",
       "130. 2\n",
       "131. 2\n",
       "132. 2\n",
       "133. 3\n",
       "134. 2\n",
       "135. 2\n",
       "136. 3\n",
       "137. 2\n",
       "138. 3\n",
       "139. 3\n",
       "140. 2\n",
       "141. 1\n",
       "142. 1\n",
       "143. 1\n",
       "144. 1\n",
       "145. 1\n",
       "146. 1\n",
       "147. 1\n",
       "148. 1\n",
       "149. 1\n",
       "150. 1\n",
       "151. 1\n",
       "152. 1\n",
       "153. 1\n",
       "154. 1\n",
       "155. 1\n",
       "156. 1\n",
       "157. 1\n",
       "158. 1\n",
       "159. 1\n",
       "160. 1\n",
       "161. 1\n",
       "162. 1\n",
       "163. 1\n",
       "164. 1\n",
       "165. 1\n",
       "166. 3\n",
       "167. 1\n",
       "168. 1\n",
       "169. 1\n",
       "170. 1\n",
       "171. 1\n",
       "172. 1\n",
       "173. 1\n",
       "174. 1\n",
       "175. 1\n",
       "176. 1\n",
       "177. 1\n",
       "178. 1\n",
       "179. 1\n",
       "180. 1\n",
       "181. 1\n",
       "182. 1\n",
       "183. 1\n",
       "184. 1\n",
       "185. 1\n",
       "186. 1\n",
       "187. 1\n",
       "188. 1\n",
       "189. 1\n",
       "190. 1\n",
       "191. 1\n",
       "192. 1\n",
       "193. 1\n",
       "194. 1\n",
       "195. 1\n",
       "196. 1\n",
       "197. 1\n",
       "198. 3\n",
       "199. 1\n",
       "200. 3\n",
       "201. 1\n",
       "202. 3\n",
       "203. 1\n",
       "204. 1\n",
       "205. 1\n",
       "206. 1\n",
       "207. 1\n",
       "208. 1\n",
       "209. 1\n",
       "210. 1\n",
       "\n",
       "\n"
      ],
      "text/plain": [
       "  [1] 3 3 3 3 3 3 3 3 2 3 3 3 3 3 3 3 3 3 3 1 3 3 3 3 3 3 3 3 3 3 3 3 3 3 3 3 3\n",
       " [38] 2 3 3 3 3 3 3 3 3 3 3 3 3 3 3 3 3 3 3 3 3 3 1 1 1 3 1 3 3 3 3 3 1 2 2 2 2\n",
       " [75] 2 2 2 2 2 2 2 2 2 2 2 2 2 2 2 2 2 2 2 2 2 2 2 2 2 2 2 2 2 2 2 2 2 2 2 2 2\n",
       "[112] 2 2 2 2 2 2 2 2 2 2 2 2 2 3 2 2 2 2 2 2 2 3 2 2 3 2 3 3 2 1 1 1 1 1 1 1 1\n",
       "[149] 1 1 1 1 1 1 1 1 1 1 1 1 1 1 1 1 1 3 1 1 1 1 1 1 1 1 1 1 1 1 1 1 1 1 1 1 1\n",
       "[186] 1 1 1 1 1 1 1 1 1 1 1 1 3 1 3 1 3 1 1 1 1 1 1 1 1\n",
       "Levels: 1 2 3"
      ]
     },
     "metadata": {},
     "output_type": "display_data"
    }
   ],
   "source": [
    "predict"
   ]
  },
  {
   "cell_type": "code",
   "execution_count": 31,
   "metadata": {
    "collapsed": false
   },
   "outputs": [
    {
     "data": {
      "text/html": [
       "<ol class=list-inline>\n",
       "\t<li>1</li>\n",
       "\t<li>1</li>\n",
       "\t<li>1</li>\n",
       "\t<li>1</li>\n",
       "\t<li>1</li>\n",
       "\t<li>1</li>\n",
       "\t<li>1</li>\n",
       "\t<li>1</li>\n",
       "\t<li>1</li>\n",
       "\t<li>1</li>\n",
       "\t<li>1</li>\n",
       "\t<li>1</li>\n",
       "\t<li>1</li>\n",
       "\t<li>1</li>\n",
       "\t<li>1</li>\n",
       "\t<li>1</li>\n",
       "\t<li>1</li>\n",
       "\t<li>1</li>\n",
       "\t<li>1</li>\n",
       "\t<li>1</li>\n",
       "\t<li>1</li>\n",
       "\t<li>1</li>\n",
       "\t<li>1</li>\n",
       "\t<li>1</li>\n",
       "\t<li>1</li>\n",
       "\t<li>1</li>\n",
       "\t<li>1</li>\n",
       "\t<li>1</li>\n",
       "\t<li>1</li>\n",
       "\t<li>1</li>\n",
       "\t<li>1</li>\n",
       "\t<li>1</li>\n",
       "\t<li>1</li>\n",
       "\t<li>1</li>\n",
       "\t<li>1</li>\n",
       "\t<li>1</li>\n",
       "\t<li>1</li>\n",
       "\t<li>1</li>\n",
       "\t<li>1</li>\n",
       "\t<li>1</li>\n",
       "\t<li>1</li>\n",
       "\t<li>1</li>\n",
       "\t<li>1</li>\n",
       "\t<li>1</li>\n",
       "\t<li>1</li>\n",
       "\t<li>1</li>\n",
       "\t<li>1</li>\n",
       "\t<li>1</li>\n",
       "\t<li>1</li>\n",
       "\t<li>1</li>\n",
       "\t<li>1</li>\n",
       "\t<li>1</li>\n",
       "\t<li>1</li>\n",
       "\t<li>1</li>\n",
       "\t<li>1</li>\n",
       "\t<li>1</li>\n",
       "\t<li>1</li>\n",
       "\t<li>1</li>\n",
       "\t<li>1</li>\n",
       "\t<li>1</li>\n",
       "\t<li>1</li>\n",
       "\t<li>1</li>\n",
       "\t<li>1</li>\n",
       "\t<li>1</li>\n",
       "\t<li>1</li>\n",
       "\t<li>1</li>\n",
       "\t<li>1</li>\n",
       "\t<li>1</li>\n",
       "\t<li>1</li>\n",
       "\t<li>1</li>\n",
       "\t<li>2</li>\n",
       "\t<li>2</li>\n",
       "\t<li>2</li>\n",
       "\t<li>2</li>\n",
       "\t<li>2</li>\n",
       "\t<li>2</li>\n",
       "\t<li>2</li>\n",
       "\t<li>2</li>\n",
       "\t<li>2</li>\n",
       "\t<li>2</li>\n",
       "\t<li>2</li>\n",
       "\t<li>2</li>\n",
       "\t<li>2</li>\n",
       "\t<li>2</li>\n",
       "\t<li>2</li>\n",
       "\t<li>2</li>\n",
       "\t<li>2</li>\n",
       "\t<li>2</li>\n",
       "\t<li>2</li>\n",
       "\t<li>2</li>\n",
       "\t<li>2</li>\n",
       "\t<li>2</li>\n",
       "\t<li>2</li>\n",
       "\t<li>2</li>\n",
       "\t<li>2</li>\n",
       "\t<li>2</li>\n",
       "\t<li>2</li>\n",
       "\t<li>2</li>\n",
       "\t<li>2</li>\n",
       "\t<li>2</li>\n",
       "\t<li>2</li>\n",
       "\t<li>2</li>\n",
       "\t<li>2</li>\n",
       "\t<li>2</li>\n",
       "\t<li>2</li>\n",
       "\t<li>2</li>\n",
       "\t<li>2</li>\n",
       "\t<li>2</li>\n",
       "\t<li>2</li>\n",
       "\t<li>2</li>\n",
       "\t<li>2</li>\n",
       "\t<li>2</li>\n",
       "\t<li>2</li>\n",
       "\t<li>2</li>\n",
       "\t<li>2</li>\n",
       "\t<li>2</li>\n",
       "\t<li>2</li>\n",
       "\t<li>2</li>\n",
       "\t<li>2</li>\n",
       "\t<li>2</li>\n",
       "\t<li>2</li>\n",
       "\t<li>2</li>\n",
       "\t<li>2</li>\n",
       "\t<li>2</li>\n",
       "\t<li>2</li>\n",
       "\t<li>2</li>\n",
       "\t<li>2</li>\n",
       "\t<li>2</li>\n",
       "\t<li>2</li>\n",
       "\t<li>2</li>\n",
       "\t<li>2</li>\n",
       "\t<li>2</li>\n",
       "\t<li>2</li>\n",
       "\t<li>2</li>\n",
       "\t<li>2</li>\n",
       "\t<li>2</li>\n",
       "\t<li>2</li>\n",
       "\t<li>2</li>\n",
       "\t<li>2</li>\n",
       "\t<li>2</li>\n",
       "\t<li>3</li>\n",
       "\t<li>3</li>\n",
       "\t<li>3</li>\n",
       "\t<li>3</li>\n",
       "\t<li>3</li>\n",
       "\t<li>3</li>\n",
       "\t<li>3</li>\n",
       "\t<li>3</li>\n",
       "\t<li>3</li>\n",
       "\t<li>3</li>\n",
       "\t<li>3</li>\n",
       "\t<li>3</li>\n",
       "\t<li>3</li>\n",
       "\t<li>3</li>\n",
       "\t<li>3</li>\n",
       "\t<li>3</li>\n",
       "\t<li>3</li>\n",
       "\t<li>3</li>\n",
       "\t<li>3</li>\n",
       "\t<li>3</li>\n",
       "\t<li>3</li>\n",
       "\t<li>3</li>\n",
       "\t<li>3</li>\n",
       "\t<li>3</li>\n",
       "\t<li>3</li>\n",
       "\t<li>3</li>\n",
       "\t<li>3</li>\n",
       "\t<li>3</li>\n",
       "\t<li>3</li>\n",
       "\t<li>3</li>\n",
       "\t<li>3</li>\n",
       "\t<li>3</li>\n",
       "\t<li>3</li>\n",
       "\t<li>3</li>\n",
       "\t<li>3</li>\n",
       "\t<li>3</li>\n",
       "\t<li>3</li>\n",
       "\t<li>3</li>\n",
       "\t<li>3</li>\n",
       "\t<li>3</li>\n",
       "\t<li>3</li>\n",
       "\t<li>3</li>\n",
       "\t<li>3</li>\n",
       "\t<li>3</li>\n",
       "\t<li>3</li>\n",
       "\t<li>3</li>\n",
       "\t<li>3</li>\n",
       "\t<li>3</li>\n",
       "\t<li>3</li>\n",
       "\t<li>3</li>\n",
       "\t<li>3</li>\n",
       "\t<li>3</li>\n",
       "\t<li>3</li>\n",
       "\t<li>3</li>\n",
       "\t<li>3</li>\n",
       "\t<li>3</li>\n",
       "\t<li>3</li>\n",
       "\t<li>3</li>\n",
       "\t<li>3</li>\n",
       "\t<li>3</li>\n",
       "\t<li>3</li>\n",
       "\t<li>3</li>\n",
       "\t<li>3</li>\n",
       "\t<li>3</li>\n",
       "\t<li>3</li>\n",
       "\t<li>3</li>\n",
       "\t<li>3</li>\n",
       "\t<li>3</li>\n",
       "\t<li>3</li>\n",
       "\t<li>3</li>\n",
       "</ol>\n"
      ],
      "text/latex": [
       "\\begin{enumerate*}\n",
       "\\item 1\n",
       "\\item 1\n",
       "\\item 1\n",
       "\\item 1\n",
       "\\item 1\n",
       "\\item 1\n",
       "\\item 1\n",
       "\\item 1\n",
       "\\item 1\n",
       "\\item 1\n",
       "\\item 1\n",
       "\\item 1\n",
       "\\item 1\n",
       "\\item 1\n",
       "\\item 1\n",
       "\\item 1\n",
       "\\item 1\n",
       "\\item 1\n",
       "\\item 1\n",
       "\\item 1\n",
       "\\item 1\n",
       "\\item 1\n",
       "\\item 1\n",
       "\\item 1\n",
       "\\item 1\n",
       "\\item 1\n",
       "\\item 1\n",
       "\\item 1\n",
       "\\item 1\n",
       "\\item 1\n",
       "\\item 1\n",
       "\\item 1\n",
       "\\item 1\n",
       "\\item 1\n",
       "\\item 1\n",
       "\\item 1\n",
       "\\item 1\n",
       "\\item 1\n",
       "\\item 1\n",
       "\\item 1\n",
       "\\item 1\n",
       "\\item 1\n",
       "\\item 1\n",
       "\\item 1\n",
       "\\item 1\n",
       "\\item 1\n",
       "\\item 1\n",
       "\\item 1\n",
       "\\item 1\n",
       "\\item 1\n",
       "\\item 1\n",
       "\\item 1\n",
       "\\item 1\n",
       "\\item 1\n",
       "\\item 1\n",
       "\\item 1\n",
       "\\item 1\n",
       "\\item 1\n",
       "\\item 1\n",
       "\\item 1\n",
       "\\item 1\n",
       "\\item 1\n",
       "\\item 1\n",
       "\\item 1\n",
       "\\item 1\n",
       "\\item 1\n",
       "\\item 1\n",
       "\\item 1\n",
       "\\item 1\n",
       "\\item 1\n",
       "\\item 2\n",
       "\\item 2\n",
       "\\item 2\n",
       "\\item 2\n",
       "\\item 2\n",
       "\\item 2\n",
       "\\item 2\n",
       "\\item 2\n",
       "\\item 2\n",
       "\\item 2\n",
       "\\item 2\n",
       "\\item 2\n",
       "\\item 2\n",
       "\\item 2\n",
       "\\item 2\n",
       "\\item 2\n",
       "\\item 2\n",
       "\\item 2\n",
       "\\item 2\n",
       "\\item 2\n",
       "\\item 2\n",
       "\\item 2\n",
       "\\item 2\n",
       "\\item 2\n",
       "\\item 2\n",
       "\\item 2\n",
       "\\item 2\n",
       "\\item 2\n",
       "\\item 2\n",
       "\\item 2\n",
       "\\item 2\n",
       "\\item 2\n",
       "\\item 2\n",
       "\\item 2\n",
       "\\item 2\n",
       "\\item 2\n",
       "\\item 2\n",
       "\\item 2\n",
       "\\item 2\n",
       "\\item 2\n",
       "\\item 2\n",
       "\\item 2\n",
       "\\item 2\n",
       "\\item 2\n",
       "\\item 2\n",
       "\\item 2\n",
       "\\item 2\n",
       "\\item 2\n",
       "\\item 2\n",
       "\\item 2\n",
       "\\item 2\n",
       "\\item 2\n",
       "\\item 2\n",
       "\\item 2\n",
       "\\item 2\n",
       "\\item 2\n",
       "\\item 2\n",
       "\\item 2\n",
       "\\item 2\n",
       "\\item 2\n",
       "\\item 2\n",
       "\\item 2\n",
       "\\item 2\n",
       "\\item 2\n",
       "\\item 2\n",
       "\\item 2\n",
       "\\item 2\n",
       "\\item 2\n",
       "\\item 2\n",
       "\\item 2\n",
       "\\item 3\n",
       "\\item 3\n",
       "\\item 3\n",
       "\\item 3\n",
       "\\item 3\n",
       "\\item 3\n",
       "\\item 3\n",
       "\\item 3\n",
       "\\item 3\n",
       "\\item 3\n",
       "\\item 3\n",
       "\\item 3\n",
       "\\item 3\n",
       "\\item 3\n",
       "\\item 3\n",
       "\\item 3\n",
       "\\item 3\n",
       "\\item 3\n",
       "\\item 3\n",
       "\\item 3\n",
       "\\item 3\n",
       "\\item 3\n",
       "\\item 3\n",
       "\\item 3\n",
       "\\item 3\n",
       "\\item 3\n",
       "\\item 3\n",
       "\\item 3\n",
       "\\item 3\n",
       "\\item 3\n",
       "\\item 3\n",
       "\\item 3\n",
       "\\item 3\n",
       "\\item 3\n",
       "\\item 3\n",
       "\\item 3\n",
       "\\item 3\n",
       "\\item 3\n",
       "\\item 3\n",
       "\\item 3\n",
       "\\item 3\n",
       "\\item 3\n",
       "\\item 3\n",
       "\\item 3\n",
       "\\item 3\n",
       "\\item 3\n",
       "\\item 3\n",
       "\\item 3\n",
       "\\item 3\n",
       "\\item 3\n",
       "\\item 3\n",
       "\\item 3\n",
       "\\item 3\n",
       "\\item 3\n",
       "\\item 3\n",
       "\\item 3\n",
       "\\item 3\n",
       "\\item 3\n",
       "\\item 3\n",
       "\\item 3\n",
       "\\item 3\n",
       "\\item 3\n",
       "\\item 3\n",
       "\\item 3\n",
       "\\item 3\n",
       "\\item 3\n",
       "\\item 3\n",
       "\\item 3\n",
       "\\item 3\n",
       "\\item 3\n",
       "\\end{enumerate*}\n"
      ],
      "text/markdown": [
       "1. 1\n",
       "2. 1\n",
       "3. 1\n",
       "4. 1\n",
       "5. 1\n",
       "6. 1\n",
       "7. 1\n",
       "8. 1\n",
       "9. 1\n",
       "10. 1\n",
       "11. 1\n",
       "12. 1\n",
       "13. 1\n",
       "14. 1\n",
       "15. 1\n",
       "16. 1\n",
       "17. 1\n",
       "18. 1\n",
       "19. 1\n",
       "20. 1\n",
       "21. 1\n",
       "22. 1\n",
       "23. 1\n",
       "24. 1\n",
       "25. 1\n",
       "26. 1\n",
       "27. 1\n",
       "28. 1\n",
       "29. 1\n",
       "30. 1\n",
       "31. 1\n",
       "32. 1\n",
       "33. 1\n",
       "34. 1\n",
       "35. 1\n",
       "36. 1\n",
       "37. 1\n",
       "38. 1\n",
       "39. 1\n",
       "40. 1\n",
       "41. 1\n",
       "42. 1\n",
       "43. 1\n",
       "44. 1\n",
       "45. 1\n",
       "46. 1\n",
       "47. 1\n",
       "48. 1\n",
       "49. 1\n",
       "50. 1\n",
       "51. 1\n",
       "52. 1\n",
       "53. 1\n",
       "54. 1\n",
       "55. 1\n",
       "56. 1\n",
       "57. 1\n",
       "58. 1\n",
       "59. 1\n",
       "60. 1\n",
       "61. 1\n",
       "62. 1\n",
       "63. 1\n",
       "64. 1\n",
       "65. 1\n",
       "66. 1\n",
       "67. 1\n",
       "68. 1\n",
       "69. 1\n",
       "70. 1\n",
       "71. 2\n",
       "72. 2\n",
       "73. 2\n",
       "74. 2\n",
       "75. 2\n",
       "76. 2\n",
       "77. 2\n",
       "78. 2\n",
       "79. 2\n",
       "80. 2\n",
       "81. 2\n",
       "82. 2\n",
       "83. 2\n",
       "84. 2\n",
       "85. 2\n",
       "86. 2\n",
       "87. 2\n",
       "88. 2\n",
       "89. 2\n",
       "90. 2\n",
       "91. 2\n",
       "92. 2\n",
       "93. 2\n",
       "94. 2\n",
       "95. 2\n",
       "96. 2\n",
       "97. 2\n",
       "98. 2\n",
       "99. 2\n",
       "100. 2\n",
       "101. 2\n",
       "102. 2\n",
       "103. 2\n",
       "104. 2\n",
       "105. 2\n",
       "106. 2\n",
       "107. 2\n",
       "108. 2\n",
       "109. 2\n",
       "110. 2\n",
       "111. 2\n",
       "112. 2\n",
       "113. 2\n",
       "114. 2\n",
       "115. 2\n",
       "116. 2\n",
       "117. 2\n",
       "118. 2\n",
       "119. 2\n",
       "120. 2\n",
       "121. 2\n",
       "122. 2\n",
       "123. 2\n",
       "124. 2\n",
       "125. 2\n",
       "126. 2\n",
       "127. 2\n",
       "128. 2\n",
       "129. 2\n",
       "130. 2\n",
       "131. 2\n",
       "132. 2\n",
       "133. 2\n",
       "134. 2\n",
       "135. 2\n",
       "136. 2\n",
       "137. 2\n",
       "138. 2\n",
       "139. 2\n",
       "140. 2\n",
       "141. 3\n",
       "142. 3\n",
       "143. 3\n",
       "144. 3\n",
       "145. 3\n",
       "146. 3\n",
       "147. 3\n",
       "148. 3\n",
       "149. 3\n",
       "150. 3\n",
       "151. 3\n",
       "152. 3\n",
       "153. 3\n",
       "154. 3\n",
       "155. 3\n",
       "156. 3\n",
       "157. 3\n",
       "158. 3\n",
       "159. 3\n",
       "160. 3\n",
       "161. 3\n",
       "162. 3\n",
       "163. 3\n",
       "164. 3\n",
       "165. 3\n",
       "166. 3\n",
       "167. 3\n",
       "168. 3\n",
       "169. 3\n",
       "170. 3\n",
       "171. 3\n",
       "172. 3\n",
       "173. 3\n",
       "174. 3\n",
       "175. 3\n",
       "176. 3\n",
       "177. 3\n",
       "178. 3\n",
       "179. 3\n",
       "180. 3\n",
       "181. 3\n",
       "182. 3\n",
       "183. 3\n",
       "184. 3\n",
       "185. 3\n",
       "186. 3\n",
       "187. 3\n",
       "188. 3\n",
       "189. 3\n",
       "190. 3\n",
       "191. 3\n",
       "192. 3\n",
       "193. 3\n",
       "194. 3\n",
       "195. 3\n",
       "196. 3\n",
       "197. 3\n",
       "198. 3\n",
       "199. 3\n",
       "200. 3\n",
       "201. 3\n",
       "202. 3\n",
       "203. 3\n",
       "204. 3\n",
       "205. 3\n",
       "206. 3\n",
       "207. 3\n",
       "208. 3\n",
       "209. 3\n",
       "210. 3\n",
       "\n",
       "\n"
      ],
      "text/plain": [
       "  [1] 1 1 1 1 1 1 1 1 1 1 1 1 1 1 1 1 1 1 1 1 1 1 1 1 1 1 1 1 1 1 1 1 1 1 1 1 1\n",
       " [38] 1 1 1 1 1 1 1 1 1 1 1 1 1 1 1 1 1 1 1 1 1 1 1 1 1 1 1 1 1 1 1 1 1 2 2 2 2\n",
       " [75] 2 2 2 2 2 2 2 2 2 2 2 2 2 2 2 2 2 2 2 2 2 2 2 2 2 2 2 2 2 2 2 2 2 2 2 2 2\n",
       "[112] 2 2 2 2 2 2 2 2 2 2 2 2 2 2 2 2 2 2 2 2 2 2 2 2 2 2 2 2 2 3 3 3 3 3 3 3 3\n",
       "[149] 3 3 3 3 3 3 3 3 3 3 3 3 3 3 3 3 3 3 3 3 3 3 3 3 3 3 3 3 3 3 3 3 3 3 3 3 3\n",
       "[186] 3 3 3 3 3 3 3 3 3 3 3 3 3 3 3 3 3 3 3 3 3 3 3 3 3\n",
       "Levels: 1 2 3"
      ]
     },
     "metadata": {},
     "output_type": "display_data"
    }
   ],
   "source": [
    "seedsCOR"
   ]
  },
  {
   "cell_type": "code",
   "execution_count": 32,
   "metadata": {
    "collapsed": false
   },
   "outputs": [],
   "source": [
    "predict2 <- revalue(predict, c(\"3\"=\"1\", \"2\"=\"2\",\"1\"=\"3\"))"
   ]
  },
  {
   "cell_type": "code",
   "execution_count": 33,
   "metadata": {
    "collapsed": false
   },
   "outputs": [
    {
     "data": {
      "text/plain": [
       "        seedsCOR\n",
       "predict2  1  2  3\n",
       "       3  6  0 66\n",
       "       2  2 65  0\n",
       "       1 62  5  4"
      ]
     },
     "metadata": {},
     "output_type": "display_data"
    }
   ],
   "source": [
    "table(predict2, seedsCOR)"
   ]
  },
  {
   "cell_type": "code",
   "execution_count": 26,
   "metadata": {
    "collapsed": false
   },
   "outputs": [
    {
     "name": "stdout",
     "output_type": "stream",
     "text": [
      "Are you sure you want to shutdown the H2O instance running at http://localhost:54321/ (Y/N)? \n"
     ]
    },
    {
     "data": {
      "text/html": [
       "TRUE"
      ],
      "text/latex": [
       "TRUE"
      ],
      "text/markdown": [
       "TRUE"
      ],
      "text/plain": [
       "[1] TRUE"
      ]
     },
     "metadata": {},
     "output_type": "display_data"
    }
   ],
   "source": [
    "h2o.shutdown()"
   ]
  },
  {
   "cell_type": "code",
   "execution_count": null,
   "metadata": {
    "collapsed": true
   },
   "outputs": [],
   "source": []
  }
 ],
 "metadata": {
  "anaconda-cloud": {},
  "kernelspec": {
   "display_name": "R",
   "language": "R",
   "name": "ir"
  },
  "language_info": {
   "codemirror_mode": "r",
   "file_extension": ".r",
   "mimetype": "text/x-r-source",
   "name": "R",
   "pygments_lexer": "r",
   "version": "3.3.3"
  }
 },
 "nbformat": 4,
 "nbformat_minor": 0
}
